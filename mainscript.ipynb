{
 "cells": [
  {
   "cell_type": "code",
   "execution_count": 1,
   "metadata": {},
   "outputs": [],
   "source": [
    "# Dependencies and Setup\n",
    "import pandas as pd"
   ]
  },
  {
   "cell_type": "code",
   "execution_count": 2,
   "metadata": {},
   "outputs": [],
   "source": [
    "# File to Load (Remember to Change These)\n",
    "file_to_load = \"C:\\Users\\klsis\\Google Drive\\Homework\\pandas-challenge\\HeroesOfPymoli\\pandas-challenge\""
   ]
  },
  {
   "cell_type": "code",
   "execution_count": 3,
   "metadata": {},
   "outputs": [
    {
     "ename": "FileNotFoundError",
     "evalue": "[Errno 2] File Resources/purchase_data.csv does not exist: 'Resources/purchase_data.csv'",
     "output_type": "error",
     "traceback": [
      "\u001b[1;31m---------------------------------------------------------------------------\u001b[0m",
      "\u001b[1;31mFileNotFoundError\u001b[0m                         Traceback (most recent call last)",
      "\u001b[1;32m<ipython-input-3-a015bfbe7f01>\u001b[0m in \u001b[0;36m<module>\u001b[1;34m\u001b[0m\n\u001b[0;32m      1\u001b[0m \u001b[1;31m# Read Purchasing File and store into Pandas data frame\u001b[0m\u001b[1;33m\u001b[0m\u001b[1;33m\u001b[0m\u001b[1;33m\u001b[0m\u001b[0m\n\u001b[1;32m----> 2\u001b[1;33m \u001b[0mpurchase_data\u001b[0m \u001b[1;33m=\u001b[0m \u001b[0mpd\u001b[0m\u001b[1;33m.\u001b[0m\u001b[0mread_csv\u001b[0m\u001b[1;33m(\u001b[0m\u001b[0mfile_to_load\u001b[0m\u001b[1;33m)\u001b[0m\u001b[1;33m\u001b[0m\u001b[1;33m\u001b[0m\u001b[0m\n\u001b[0m\u001b[0;32m      3\u001b[0m \u001b[0mpurchase_data\u001b[0m\u001b[1;33m\u001b[0m\u001b[1;33m\u001b[0m\u001b[0m\n",
      "\u001b[1;32m~\\anaconda3\\lib\\site-packages\\pandas\\io\\parsers.py\u001b[0m in \u001b[0;36mparser_f\u001b[1;34m(filepath_or_buffer, sep, delimiter, header, names, index_col, usecols, squeeze, prefix, mangle_dupe_cols, dtype, engine, converters, true_values, false_values, skipinitialspace, skiprows, skipfooter, nrows, na_values, keep_default_na, na_filter, verbose, skip_blank_lines, parse_dates, infer_datetime_format, keep_date_col, date_parser, dayfirst, cache_dates, iterator, chunksize, compression, thousands, decimal, lineterminator, quotechar, quoting, doublequote, escapechar, comment, encoding, dialect, error_bad_lines, warn_bad_lines, delim_whitespace, low_memory, memory_map, float_precision)\u001b[0m\n\u001b[0;32m    674\u001b[0m         )\n\u001b[0;32m    675\u001b[0m \u001b[1;33m\u001b[0m\u001b[0m\n\u001b[1;32m--> 676\u001b[1;33m         \u001b[1;32mreturn\u001b[0m \u001b[0m_read\u001b[0m\u001b[1;33m(\u001b[0m\u001b[0mfilepath_or_buffer\u001b[0m\u001b[1;33m,\u001b[0m \u001b[0mkwds\u001b[0m\u001b[1;33m)\u001b[0m\u001b[1;33m\u001b[0m\u001b[1;33m\u001b[0m\u001b[0m\n\u001b[0m\u001b[0;32m    677\u001b[0m \u001b[1;33m\u001b[0m\u001b[0m\n\u001b[0;32m    678\u001b[0m     \u001b[0mparser_f\u001b[0m\u001b[1;33m.\u001b[0m\u001b[0m__name__\u001b[0m \u001b[1;33m=\u001b[0m \u001b[0mname\u001b[0m\u001b[1;33m\u001b[0m\u001b[1;33m\u001b[0m\u001b[0m\n",
      "\u001b[1;32m~\\anaconda3\\lib\\site-packages\\pandas\\io\\parsers.py\u001b[0m in \u001b[0;36m_read\u001b[1;34m(filepath_or_buffer, kwds)\u001b[0m\n\u001b[0;32m    446\u001b[0m \u001b[1;33m\u001b[0m\u001b[0m\n\u001b[0;32m    447\u001b[0m     \u001b[1;31m# Create the parser.\u001b[0m\u001b[1;33m\u001b[0m\u001b[1;33m\u001b[0m\u001b[1;33m\u001b[0m\u001b[0m\n\u001b[1;32m--> 448\u001b[1;33m     \u001b[0mparser\u001b[0m \u001b[1;33m=\u001b[0m \u001b[0mTextFileReader\u001b[0m\u001b[1;33m(\u001b[0m\u001b[0mfp_or_buf\u001b[0m\u001b[1;33m,\u001b[0m \u001b[1;33m**\u001b[0m\u001b[0mkwds\u001b[0m\u001b[1;33m)\u001b[0m\u001b[1;33m\u001b[0m\u001b[1;33m\u001b[0m\u001b[0m\n\u001b[0m\u001b[0;32m    449\u001b[0m \u001b[1;33m\u001b[0m\u001b[0m\n\u001b[0;32m    450\u001b[0m     \u001b[1;32mif\u001b[0m \u001b[0mchunksize\u001b[0m \u001b[1;32mor\u001b[0m \u001b[0miterator\u001b[0m\u001b[1;33m:\u001b[0m\u001b[1;33m\u001b[0m\u001b[1;33m\u001b[0m\u001b[0m\n",
      "\u001b[1;32m~\\anaconda3\\lib\\site-packages\\pandas\\io\\parsers.py\u001b[0m in \u001b[0;36m__init__\u001b[1;34m(self, f, engine, **kwds)\u001b[0m\n\u001b[0;32m    878\u001b[0m             \u001b[0mself\u001b[0m\u001b[1;33m.\u001b[0m\u001b[0moptions\u001b[0m\u001b[1;33m[\u001b[0m\u001b[1;34m\"has_index_names\"\u001b[0m\u001b[1;33m]\u001b[0m \u001b[1;33m=\u001b[0m \u001b[0mkwds\u001b[0m\u001b[1;33m[\u001b[0m\u001b[1;34m\"has_index_names\"\u001b[0m\u001b[1;33m]\u001b[0m\u001b[1;33m\u001b[0m\u001b[1;33m\u001b[0m\u001b[0m\n\u001b[0;32m    879\u001b[0m \u001b[1;33m\u001b[0m\u001b[0m\n\u001b[1;32m--> 880\u001b[1;33m         \u001b[0mself\u001b[0m\u001b[1;33m.\u001b[0m\u001b[0m_make_engine\u001b[0m\u001b[1;33m(\u001b[0m\u001b[0mself\u001b[0m\u001b[1;33m.\u001b[0m\u001b[0mengine\u001b[0m\u001b[1;33m)\u001b[0m\u001b[1;33m\u001b[0m\u001b[1;33m\u001b[0m\u001b[0m\n\u001b[0m\u001b[0;32m    881\u001b[0m \u001b[1;33m\u001b[0m\u001b[0m\n\u001b[0;32m    882\u001b[0m     \u001b[1;32mdef\u001b[0m \u001b[0mclose\u001b[0m\u001b[1;33m(\u001b[0m\u001b[0mself\u001b[0m\u001b[1;33m)\u001b[0m\u001b[1;33m:\u001b[0m\u001b[1;33m\u001b[0m\u001b[1;33m\u001b[0m\u001b[0m\n",
      "\u001b[1;32m~\\anaconda3\\lib\\site-packages\\pandas\\io\\parsers.py\u001b[0m in \u001b[0;36m_make_engine\u001b[1;34m(self, engine)\u001b[0m\n\u001b[0;32m   1112\u001b[0m     \u001b[1;32mdef\u001b[0m \u001b[0m_make_engine\u001b[0m\u001b[1;33m(\u001b[0m\u001b[0mself\u001b[0m\u001b[1;33m,\u001b[0m \u001b[0mengine\u001b[0m\u001b[1;33m=\u001b[0m\u001b[1;34m\"c\"\u001b[0m\u001b[1;33m)\u001b[0m\u001b[1;33m:\u001b[0m\u001b[1;33m\u001b[0m\u001b[1;33m\u001b[0m\u001b[0m\n\u001b[0;32m   1113\u001b[0m         \u001b[1;32mif\u001b[0m \u001b[0mengine\u001b[0m \u001b[1;33m==\u001b[0m \u001b[1;34m\"c\"\u001b[0m\u001b[1;33m:\u001b[0m\u001b[1;33m\u001b[0m\u001b[1;33m\u001b[0m\u001b[0m\n\u001b[1;32m-> 1114\u001b[1;33m             \u001b[0mself\u001b[0m\u001b[1;33m.\u001b[0m\u001b[0m_engine\u001b[0m \u001b[1;33m=\u001b[0m \u001b[0mCParserWrapper\u001b[0m\u001b[1;33m(\u001b[0m\u001b[0mself\u001b[0m\u001b[1;33m.\u001b[0m\u001b[0mf\u001b[0m\u001b[1;33m,\u001b[0m \u001b[1;33m**\u001b[0m\u001b[0mself\u001b[0m\u001b[1;33m.\u001b[0m\u001b[0moptions\u001b[0m\u001b[1;33m)\u001b[0m\u001b[1;33m\u001b[0m\u001b[1;33m\u001b[0m\u001b[0m\n\u001b[0m\u001b[0;32m   1115\u001b[0m         \u001b[1;32melse\u001b[0m\u001b[1;33m:\u001b[0m\u001b[1;33m\u001b[0m\u001b[1;33m\u001b[0m\u001b[0m\n\u001b[0;32m   1116\u001b[0m             \u001b[1;32mif\u001b[0m \u001b[0mengine\u001b[0m \u001b[1;33m==\u001b[0m \u001b[1;34m\"python\"\u001b[0m\u001b[1;33m:\u001b[0m\u001b[1;33m\u001b[0m\u001b[1;33m\u001b[0m\u001b[0m\n",
      "\u001b[1;32m~\\anaconda3\\lib\\site-packages\\pandas\\io\\parsers.py\u001b[0m in \u001b[0;36m__init__\u001b[1;34m(self, src, **kwds)\u001b[0m\n\u001b[0;32m   1889\u001b[0m         \u001b[0mkwds\u001b[0m\u001b[1;33m[\u001b[0m\u001b[1;34m\"usecols\"\u001b[0m\u001b[1;33m]\u001b[0m \u001b[1;33m=\u001b[0m \u001b[0mself\u001b[0m\u001b[1;33m.\u001b[0m\u001b[0musecols\u001b[0m\u001b[1;33m\u001b[0m\u001b[1;33m\u001b[0m\u001b[0m\n\u001b[0;32m   1890\u001b[0m \u001b[1;33m\u001b[0m\u001b[0m\n\u001b[1;32m-> 1891\u001b[1;33m         \u001b[0mself\u001b[0m\u001b[1;33m.\u001b[0m\u001b[0m_reader\u001b[0m \u001b[1;33m=\u001b[0m \u001b[0mparsers\u001b[0m\u001b[1;33m.\u001b[0m\u001b[0mTextReader\u001b[0m\u001b[1;33m(\u001b[0m\u001b[0msrc\u001b[0m\u001b[1;33m,\u001b[0m \u001b[1;33m**\u001b[0m\u001b[0mkwds\u001b[0m\u001b[1;33m)\u001b[0m\u001b[1;33m\u001b[0m\u001b[1;33m\u001b[0m\u001b[0m\n\u001b[0m\u001b[0;32m   1892\u001b[0m         \u001b[0mself\u001b[0m\u001b[1;33m.\u001b[0m\u001b[0munnamed_cols\u001b[0m \u001b[1;33m=\u001b[0m \u001b[0mself\u001b[0m\u001b[1;33m.\u001b[0m\u001b[0m_reader\u001b[0m\u001b[1;33m.\u001b[0m\u001b[0munnamed_cols\u001b[0m\u001b[1;33m\u001b[0m\u001b[1;33m\u001b[0m\u001b[0m\n\u001b[0;32m   1893\u001b[0m \u001b[1;33m\u001b[0m\u001b[0m\n",
      "\u001b[1;32mpandas\\_libs\\parsers.pyx\u001b[0m in \u001b[0;36mpandas._libs.parsers.TextReader.__cinit__\u001b[1;34m()\u001b[0m\n",
      "\u001b[1;32mpandas\\_libs\\parsers.pyx\u001b[0m in \u001b[0;36mpandas._libs.parsers.TextReader._setup_parser_source\u001b[1;34m()\u001b[0m\n",
      "\u001b[1;31mFileNotFoundError\u001b[0m: [Errno 2] File Resources/purchase_data.csv does not exist: 'Resources/purchase_data.csv'"
     ]
    }
   ],
   "source": [
    "# Read Purchasing File and store into Pandas data frame\n",
    "purchase_data = pd.read_csv(file_to_load)\n",
    "purchase_data"
   ]
  },
  {
   "cell_type": "code",
   "execution_count": null,
   "metadata": {},
   "outputs": [],
   "source": [
    "purchase_data.dtypes"
   ]
  },
  {
   "cell_type": "code",
   "execution_count": null,
   "metadata": {},
   "outputs": [],
   "source": [
    "# Calculate the Number of Unique Players\n",
    "total_players = purchase_data.loc[:, [\"Gender\", \"SN\", \"Age\"]]\n",
    "total_players = total_players.drop_duplicates()\n",
    "number_of_players = total_players.count()[0]\n",
    "\n",
    "#Display the total number of players\n",
    "pd.DataFrame({\"Total Players\": [number_of_players]})"
   ]
  },
  {
   "cell_type": "code",
   "execution_count": null,
   "metadata": {},
   "outputs": [],
   "source": [
    "#Run basic calculations to obtain number of unique items, average price, etc.\n",
    "#Number of Unique Items\n",
    "unique_count = len(purchase_data[\"Item ID\"].unique())\n",
    "\n",
    "#Average Purchase Price\n",
    "average_cost = purchase_data[\"Price\"].mean()\n",
    "\n",
    "#Number of Purchases\n",
    "purchase_total = purchase_data[\"Purchase ID\"].count()\n",
    "\n",
    "#Total Revenue\n",
    "total_revenue = purchase_data[\"Price\"].sum()\n",
    "\n",
    "# Create a summary dataframe to hold results\n",
    "summary_df = pd.DataFrame({\"Number of Unique Items\": [unique_count],\n",
    "                              \"Average Price\": [average_cost],\n",
    "                              \"Number of Purchases\": [purchase_total],\n",
    "                              \"Total Revenue\": [total_revenue]})\n",
    "\n",
    "#Format the data with mapping\n",
    "summary_df[\"Average Price\"]=summary_df[\"Average Price\"].map(\"${:,.2f}\".format)\n",
    "summary_df[\"Total Revenue\"]=summary_df[\"Total Revenue\"].map(\"${:,.2f}\".format)\n",
    "\n",
    "# Display the summary table\n",
    "summary_df"
   ]
  },
  {
   "cell_type": "code",
   "execution_count": null,
   "metadata": {},
   "outputs": [],
   "source": [
    "#Percent and Count of Gender\n",
    "#Count values in gender column\n",
    "gender_total = total_players[\"Gender\"].value_counts()\n",
    "\n",
    "#Calculate percent\n",
    "percent_gender = gender_total / number_of_players\n",
    "\n",
    "#Create a summary data frame to hold the results\n",
    "gender_summary = pd.DataFrame({\"Total Count\": gender_total, \"Percentage of Players\": percent_gender})\n",
    "\n",
    "#Format the data with mapping\n",
    "#Display the summary data \n",
    "gender_summary[\"Percentage of Players\"] = gender_summary[\"Percentage of Players\"].map(\"{:,.2%}\".format)\n",
    "gender_summary"
   ]
  },
  {
   "cell_type": "code",
   "execution_count": null,
   "metadata": {},
   "outputs": [],
   "source": [
    "#Purchasing Analysis (Gender)\n",
    "#Run basic calculations to obtain purchase count, avg. purchase price, avg. purchase total per person etc. by gender\n",
    "#Number of Purchases\n",
    "purchase_count = purchase_data.groupby([\"Gender\"]).count()[\"Purchase ID\"]\n",
    "\n",
    "#Average Purchase Price\n",
    "purchase_price_avg = purchase_data.groupby([\"Gender\"]).mean()[\"Price\"]\n",
    "                                                            \n",
    "#Total Purchase Value   \n",
    "total_value = purchase_data.groupby([\"Gender\"]).sum()[\"Price\"]                                                           \n",
    "\n",
    "#Average purchase Total Per Person\n",
    "avg_person_purchase = total_value/gender_total\n",
    "\n",
    "# Create a summary dataframe to hold results\n",
    "purchasing_summary = pd.DataFrame({\"Purchase Count\": purchase_count,\n",
    "                                      \"Average Purchase Price\": purchase_price_avg,\n",
    "                                      \"Total Purchase Value\": total_value,\n",
    "                                      \"Average Total Purchase per Person\": avg_person_purchase })\n",
    "\n",
    "#Format the data with mapping\n",
    "purchasing_summary[\"Average Purchase Price\"]=purchasing_summary[\"Average Purchase Price\"].map(\"${:,.2f}\".format)\n",
    "purchasing_summary[\"Total Purchase Value\"]=purchasing_summary[\"Total Purchase Value\"].map(\"${:,.2f}\".format)\n",
    "purchasing_summary[\"Average Total Purchase per Person\"]=purchasing_summary[\"Average Total Purchase per Person\"].map(\"${:,.2f}\".format)\n",
    "\n",
    "# Display the summary table\n",
    "purchasing_summary"
   ]
  },
  {
   "cell_type": "code",
   "execution_count": null,
   "metadata": {},
   "outputs": [],
   "source": [
    "#Age Demongraphics\n",
    "#Create a bin for ages\n",
    "bins = [0, 9, 14, 19, 24, 29, 34, 39, 112]\n",
    "\n",
    "#Create the names for the bins\n",
    "group_names = [\"<10\", \"10-14\", \"15-19\", \"20-24\", \"25-29\", \"30-34\", \"35-39\", \"40+\"]\n",
    "\n",
    "# Slice the data and place it into bins\n",
    "total_players[\"Group\"] = pd.cut(total_players[\"Age\"], bins, labels=group_names, include_lowest=True)\n",
    "\n",
    "#Total Count\n",
    "age_total = total_players[\"Group\"].value_counts()\n",
    "\n",
    "# Get Percentage of Players\n",
    "age_percentage = age_total/number_of_players\n",
    "\n",
    "# Create a summary dataframe to hold results\n",
    "age_summary = pd.DataFrame({\"Total Count\": age_total,\n",
    "                              \"Percentage of Players\": age_percentage})\n",
    "\n",
    "#Format the data with mapping\n",
    "age_summary[\"Percentage of Players\"] = age_summary[\"Percentage of Players\"].map(\"{:,.2%}\".format)\n",
    "age_summary\n",
    "\n",
    "#Display Age Demographics Table\n",
    "age_summary.sort_index()"
   ]
  },
  {
   "cell_type": "code",
   "execution_count": null,
   "metadata": {},
   "outputs": [],
   "source": [
    "#Purchasing Analysis (Age)\n",
    "#Categorize purchase data into bins\n",
    "purchase_data[\"Group\"] = pd.cut(purchase_data[\"Age\"], bins, labels=group_names, include_lowest=True)\n",
    "\n",
    "#Run basic calculations to obtain purchase count, avg. purchase price, avg. purchase total per person etc. by age\n",
    "#Number of Purchases for Age\n",
    "purchase_count_age = purchase_data.groupby([\"Group\"]).count()[\"Price\"]\n",
    "\n",
    "#Average Purchase Price for Age\n",
    "purchase_price_avg_age = purchase_data.groupby([\"Group\"]).mean()[\"Price\"]\n",
    "                                                            \n",
    "#Total Purchase Value for Age  \n",
    "total_value_age = purchase_data.groupby([\"Group\"]).sum()[\"Price\"]                                                   \n",
    "\n",
    "#Average Total Purchase Per Person for Age\n",
    "avg_person_purchase_age = total_value_age/age_total\n",
    "\n",
    "# Create a summary dataframe to hold results\n",
    "purchasing_age_summary = pd.DataFrame({\"Purchase Count\": purchase_count_age,\n",
    "                                          \"Average Purchase Price\": purchase_price_avg_age,\n",
    "                                          \"Total Purchase Value\": total_value_age,\n",
    "                                          \"Average Total Purchase per Person\": avg_person_purchase_age})\n",
    "\n",
    "#Format the data with mapping\n",
    "purchasing_age_summary[\"Average Purchase Price\"]=purchasing_age_summary[\"Average Purchase Price\"].map(\"${:,.2f}\".format)\n",
    "purchasing_age_summary[\"Total Purchase Value\"]=purchasing_age_summary[\"Total Purchase Value\"].map(\"${:,.2f}\".format)\n",
    "purchasing_age_summary[\"Average Total Purchase per Person\"]=purchasing_age_summary[\"Average Total Purchase per Person\"].map(\"${:,.2f}\".format)\n",
    "\n",
    "# Display Purchasing Analysis by Age Table\n",
    "purchasing_age_summary"
   ]
  },
  {
   "cell_type": "code",
   "execution_count": null,
   "metadata": {},
   "outputs": [],
   "source": [
    "#Top Spenders\n",
    "#Run basic calculations to obtain the results in the table below\n",
    "sn_count = purchase_data.groupby([\"SN\"]).count()[\"Price\"]\n",
    "\n",
    "#Total Purchase Value\n",
    "sn_total =  purchase_data.groupby([\"SN\"]).sum()[\"Price\"]\n",
    "\n",
    "#Average Purchase Price\n",
    "sn_avg = purchase_data.groupby([\"SN\"]).mean()[\"Price\"]\n",
    "\n",
    "# Create a summary dataframe to hold results\n",
    "screen_name_summary = pd.DataFrame({\"Purchase Count\": sn_count,\n",
    "                                      \"Average Purchase Price\": sn_avg,\n",
    "                                      \"Total Purchase Value\": sn_total})\n",
    "\n",
    "#Sort the total purchase value column in descending order\n",
    "final_screen_name_summary = screen_name_summary.sort_values(\"Total Purchase Value\", ascending=False)\n",
    "\n",
    "#Format the data with mapping\n",
    "final_screen_name_summary[\"Average Purchase Price\"]=final_screen_name_summary[\"Average Purchase Price\"].map(\"${:,.2f}\".format)\n",
    "final_screen_name_summary[\"Total Purchase Value\"]=final_screen_name_summary[\"Total Purchase Value\"].map(\"${:,.2f}\".format)\n",
    "\n",
    "#Display Top Spenders data\n",
    "final_screen_name_summary.head()"
   ]
  },
  {
   "cell_type": "code",
   "execution_count": null,
   "metadata": {},
   "outputs": [],
   "source": [
    "#Most Popular Items\n",
    "#Reindex purchase_data\n",
    "popular_items = purchase_data.reindex(columns=[\"Item ID\", \"Item Name\", \"Price\"])\n",
    "\n",
    "# Calculations and groupby\n",
    "popular_count = popular_items.groupby([\"Item ID\", \"Item Name\"]).count()[\"Price\"].rename(\"Purchase Count\")\n",
    "\n",
    "#Average Item Price\n",
    "popular_avg = popular_items.groupby([\"Item ID\", \"Item Name\"]).mean()[\"Price\"]\n",
    "\n",
    "#Total Purchase Value\n",
    "item_total = popular_items.groupby([\"Item ID\", \"Item Name\"]).sum()[\"Price\"].rename(\"Total Purchase Value\")\n",
    "\n",
    "#Create a summary data grame to hold the results\n",
    "popular_summary = pd.DataFrame({\"Purchase Count\": popular_count,\n",
    "                                \"Item Price\": popular_avg, \n",
    "                                \"Total Purchase Value\": item_total})\n",
    "\n",
    "# Sort purchase count (descending order)\n",
    "popular_summary_df = popular_summary.sort_values(\"Purchase Count\", ascending = False)\n",
    "\n",
    "# Format\n",
    "popular_summary_df[\"Purchase Count\"] = popular_summary_df[\"Purchase Count\"].map(\"{:,}\".format)\n",
    "popular_summary_df[\"Item Price\"] = popular_summary_df[\"Item Price\"].map(\"${:,.2f}\".format)\n",
    "popular_summary_df[\"Total Purchase Value\"] = popular_summary_df[\"Total Purchase Value\"].map(\"${:,.2f}\".format)\n",
    "\n",
    "# Display Most Popular Items Table\n",
    "popular_summary_df.head()"
   ]
  },
  {
   "cell_type": "code",
   "execution_count": null,
   "metadata": {},
   "outputs": [],
   "source": [
    "#Most Profitable Items\n",
    "#Sort the Total Purchase Value column in descending order\n",
    "popular_summary_df2 = popular_summary.sort_values(\"Total Purchase Value\", ascending=False)\n",
    "\n",
    "#Format the data with mapping\n",
    "popular_summary_df2[\"Item Price\"]=popular_summary_df2[\"Item Price\"].map(\"${:,.2f}\".format)\n",
    "popular_summary_df2[\"Total Purchase Value\"]=popular_summary_df2[\"Total Purchase Value\"].map(\"${:,.2f}\".format)\n",
    "\n",
    "# Display Most Profitable Items Table\n",
    "popular_summary_df2.head()"
   ]
  },
  {
   "cell_type": "code",
   "execution_count": null,
   "metadata": {},
   "outputs": [],
   "source": []
  },
  {
   "cell_type": "code",
   "execution_count": null,
   "metadata": {},
   "outputs": [],
   "source": []
  },
  {
   "cell_type": "code",
   "execution_count": null,
   "metadata": {},
   "outputs": [],
   "source": []
  },
  {
   "cell_type": "code",
   "execution_count": null,
   "metadata": {},
   "outputs": [],
   "source": []
  },
  {
   "cell_type": "code",
   "execution_count": null,
   "metadata": {},
   "outputs": [],
   "source": [
    "\n"
   ]
  },
  {
   "cell_type": "code",
   "execution_count": null,
   "metadata": {},
   "outputs": [],
   "source": []
  },
  {
   "cell_type": "code",
   "execution_count": null,
   "metadata": {},
   "outputs": [],
   "source": []
  },
  {
   "cell_type": "code",
   "execution_count": null,
   "metadata": {},
   "outputs": [],
   "source": []
  },
  {
   "cell_type": "code",
   "execution_count": null,
   "metadata": {},
   "outputs": [],
   "source": []
  },
  {
   "cell_type": "code",
   "execution_count": null,
   "metadata": {},
   "outputs": [],
   "source": []
  }
 ],
 "metadata": {
  "kernelspec": {
   "display_name": "Python 3",
   "language": "python",
   "name": "python3"
  },
  "language_info": {
   "codemirror_mode": {
    "name": "ipython",
    "version": 3
   },
   "file_extension": ".py",
   "mimetype": "text/x-python",
   "name": "python",
   "nbconvert_exporter": "python",
   "pygments_lexer": "ipython3",
   "version": "3.8.3"
  }
 },
 "nbformat": 4,
 "nbformat_minor": 4
}
